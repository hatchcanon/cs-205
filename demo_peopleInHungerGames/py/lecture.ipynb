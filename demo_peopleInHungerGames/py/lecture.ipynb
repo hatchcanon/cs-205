{
 "cells": [
  {
   "cell_type": "code",
   "execution_count": 1,
   "metadata": {
    "collapsed": false
   },
   "outputs": [
    {
     "name": "stderr",
     "output_type": "stream",
     "text": [
      "C:\\Users\\Nathan\\Miniconda2\\lib\\site-packages\\nltk\\twitter\\__init__.py:20: UserWarning: The twython library has not been installed. Some functionality from the twitter package will not be available.\n",
      "  warnings.warn(\"The twython library has not been installed. \"\n"
     ]
    }
   ],
   "source": [
    "import json\n",
    "from nltk.tokenize import word_tokenize\n",
    "from nltk.tokenize import sent_tokenize\n",
    "from nltk import pos_tag\n",
    "from nltk import ne_chunk\n",
    "from collections import defaultdict\n",
    "from collections import Counter\n",
    "from nltk.sentiment.vader import SentimentIntensityAnalyzer\n",
    "import re"
   ]
  },
  {
   "cell_type": "code",
   "execution_count": 2,
   "metadata": {
    "collapsed": false
   },
   "outputs": [
    {
     "data": {
      "text/plain": [
       "['I watch as Gale pulls out his knife and slices the bread.',\n",
       " 'He could be my brother.',\n",
       " 'Straight black hair, olive skin, we even have the same gray eyes.',\n",
       " \"But we're not related, at least not closely.\",\n",
       " 'Most of the families who work the mines resemblea one another this way.']"
      ]
     },
     "execution_count": 2,
     "metadata": {},
     "output_type": "execute_result"
    }
   ],
   "source": [
    "text = \"I watch as Gale pulls out his knife and slices the bread. He could be my brother. Straight black hair, olive skin, we even have the same gray eyes.  But we're not related, at least not closely. Most of the families who work the mines resemblea one another this way.\"\n",
    "\n",
    "sents = sent_tokenize(text)\n",
    "sents"
   ]
  },
  {
   "cell_type": "code",
   "execution_count": 3,
   "metadata": {
    "collapsed": false
   },
   "outputs": [
    {
     "data": {
      "text/plain": [
       "[['I',\n",
       "  'watch',\n",
       "  'as',\n",
       "  'Gale',\n",
       "  'pulls',\n",
       "  'out',\n",
       "  'his',\n",
       "  'knife',\n",
       "  'and',\n",
       "  'slices',\n",
       "  'the',\n",
       "  'bread',\n",
       "  '.'],\n",
       " ['He', 'could', 'be', 'my', 'brother', '.'],\n",
       " ['Straight',\n",
       "  'black',\n",
       "  'hair',\n",
       "  ',',\n",
       "  'olive',\n",
       "  'skin',\n",
       "  ',',\n",
       "  'we',\n",
       "  'even',\n",
       "  'have',\n",
       "  'the',\n",
       "  'same',\n",
       "  'gray',\n",
       "  'eyes',\n",
       "  '.'],\n",
       " ['But',\n",
       "  'we',\n",
       "  \"'re\",\n",
       "  'not',\n",
       "  'related',\n",
       "  ',',\n",
       "  'at',\n",
       "  'least',\n",
       "  'not',\n",
       "  'closely',\n",
       "  '.'],\n",
       " ['Most',\n",
       "  'of',\n",
       "  'the',\n",
       "  'families',\n",
       "  'who',\n",
       "  'work',\n",
       "  'the',\n",
       "  'mines',\n",
       "  'resemblea',\n",
       "  'one',\n",
       "  'another',\n",
       "  'this',\n",
       "  'way',\n",
       "  '.']]"
      ]
     },
     "execution_count": 3,
     "metadata": {},
     "output_type": "execute_result"
    }
   ],
   "source": [
    "sentWords = [word_tokenize(s) for s in sents if s]\n",
    "sentWords"
   ]
  },
  {
   "cell_type": "code",
   "execution_count": 4,
   "metadata": {
    "collapsed": false
   },
   "outputs": [
    {
     "data": {
      "text/plain": [
       "[[('I', 'PRP'),\n",
       "  ('watch', 'VBP'),\n",
       "  ('as', 'IN'),\n",
       "  ('Gale', 'NNP'),\n",
       "  ('pulls', 'VBZ'),\n",
       "  ('out', 'RP'),\n",
       "  ('his', 'PRP$'),\n",
       "  ('knife', 'NN'),\n",
       "  ('and', 'CC'),\n",
       "  ('slices', 'VBZ'),\n",
       "  ('the', 'DT'),\n",
       "  ('bread', 'NN'),\n",
       "  ('.', '.')],\n",
       " [('He', 'PRP'),\n",
       "  ('could', 'MD'),\n",
       "  ('be', 'VB'),\n",
       "  ('my', 'PRP$'),\n",
       "  ('brother', 'NN'),\n",
       "  ('.', '.')],\n",
       " [('Straight', 'NNP'),\n",
       "  ('black', 'JJ'),\n",
       "  ('hair', 'NN'),\n",
       "  (',', ','),\n",
       "  ('olive', 'JJ'),\n",
       "  ('skin', 'NN'),\n",
       "  (',', ','),\n",
       "  ('we', 'PRP'),\n",
       "  ('even', 'RB'),\n",
       "  ('have', 'VBP'),\n",
       "  ('the', 'DT'),\n",
       "  ('same', 'JJ'),\n",
       "  ('gray', 'JJ'),\n",
       "  ('eyes', 'NNS'),\n",
       "  ('.', '.')],\n",
       " [('But', 'CC'),\n",
       "  ('we', 'PRP'),\n",
       "  (\"'re\", 'VBP'),\n",
       "  ('not', 'RB'),\n",
       "  ('related', 'VBN'),\n",
       "  (',', ','),\n",
       "  ('at', 'IN'),\n",
       "  ('least', 'JJS'),\n",
       "  ('not', 'RB'),\n",
       "  ('closely', 'RB'),\n",
       "  ('.', '.')],\n",
       " [('Most', 'JJS'),\n",
       "  ('of', 'IN'),\n",
       "  ('the', 'DT'),\n",
       "  ('families', 'NNS'),\n",
       "  ('who', 'WP'),\n",
       "  ('work', 'VBP'),\n",
       "  ('the', 'DT'),\n",
       "  ('mines', 'NNS'),\n",
       "  ('resemblea', 'VBP'),\n",
       "  ('one', 'CD'),\n",
       "  ('another', 'DT'),\n",
       "  ('this', 'DT'),\n",
       "  ('way', 'NN'),\n",
       "  ('.', '.')]]"
      ]
     },
     "execution_count": 4,
     "metadata": {},
     "output_type": "execute_result"
    }
   ],
   "source": [
    "sentWordsPOS = [pos_tag(s) for s in sentWords]\n",
    "sentWordsPOS"
   ]
  },
  {
   "cell_type": "code",
   "execution_count": 5,
   "metadata": {
    "collapsed": false
   },
   "outputs": [
    {
     "data": {
      "text/plain": [
       "[Tree('S', [('I', 'PRP'), ('watch', 'VBP'), ('as', 'IN'), Tree('PERSON', [('Gale', 'NNP')]), ('pulls', 'VBZ'), ('out', 'RP'), ('his', 'PRP$'), ('knife', 'NN'), ('and', 'CC'), ('slices', 'VBZ'), ('the', 'DT'), ('bread', 'NN'), ('.', '.')]),\n",
       " Tree('S', [('He', 'PRP'), ('could', 'MD'), ('be', 'VB'), ('my', 'PRP$'), ('brother', 'NN'), ('.', '.')]),\n",
       " Tree('S', [Tree('GPE', [('Straight', 'NNP')]), ('black', 'JJ'), ('hair', 'NN'), (',', ','), ('olive', 'JJ'), ('skin', 'NN'), (',', ','), ('we', 'PRP'), ('even', 'RB'), ('have', 'VBP'), ('the', 'DT'), ('same', 'JJ'), ('gray', 'JJ'), ('eyes', 'NNS'), ('.', '.')]),\n",
       " Tree('S', [('But', 'CC'), ('we', 'PRP'), (\"'re\", 'VBP'), ('not', 'RB'), ('related', 'VBN'), (',', ','), ('at', 'IN'), ('least', 'JJS'), ('not', 'RB'), ('closely', 'RB'), ('.', '.')]),\n",
       " Tree('S', [('Most', 'JJS'), ('of', 'IN'), ('the', 'DT'), ('families', 'NNS'), ('who', 'WP'), ('work', 'VBP'), ('the', 'DT'), ('mines', 'NNS'), ('resemblea', 'VBP'), ('one', 'CD'), ('another', 'DT'), ('this', 'DT'), ('way', 'NN'), ('.', '.')])]"
      ]
     },
     "execution_count": 5,
     "metadata": {},
     "output_type": "execute_result"
    }
   ],
   "source": [
    "sentWordsNER = [ne_chunk(s) for s in sentWordsPOS]\n",
    "sentWordsNER"
   ]
  },
  {
   "cell_type": "code",
   "execution_count": 6,
   "metadata": {
    "collapsed": false
   },
   "outputs": [
    {
     "data": {
      "text/plain": [
       "[Tree('S', [('I', 'PRP'), ('watch', 'VBP'), ('as', 'IN'), Tree('PERSON', [('Gale', 'NNP')]), ('pulls', 'VBZ'), ('out', 'RP'), ('his', 'PRP$'), ('knife', 'NN'), ('and', 'CC'), ('slices', 'VBZ'), ('the', 'DT'), ('bread', 'NN'), ('.', '.')]),\n",
       " Tree('S', [('He', 'PRP'), ('could', 'MD'), ('be', 'VB'), ('my', 'PRP$'), ('brother', 'NN'), ('.', '.')]),\n",
       " Tree('S', [Tree('GPE', [('Straight', 'NNP')]), ('black', 'JJ'), ('hair', 'NN'), (',', ','), ('olive', 'JJ'), ('skin', 'NN'), (',', ','), ('we', 'PRP'), ('even', 'RB'), ('have', 'VBP'), ('the', 'DT'), ('same', 'JJ'), ('gray', 'JJ'), ('eyes', 'NNS'), ('.', '.')]),\n",
       " Tree('S', [('But', 'CC'), ('we', 'PRP'), (\"'re\", 'VBP'), ('not', 'RB'), ('related', 'VBN'), (',', ','), ('at', 'IN'), ('least', 'JJS'), ('not', 'RB'), ('closely', 'RB'), ('.', '.')]),\n",
       " Tree('S', [('Most', 'JJS'), ('of', 'IN'), ('the', 'DT'), ('families', 'NNS'), ('who', 'WP'), ('work', 'VBP'), ('the', 'DT'), ('mines', 'NNS'), ('resemblea', 'VBP'), ('one', 'CD'), ('another', 'DT'), ('this', 'DT'), ('way', 'NN'), ('.', '.')])]"
      ]
     },
     "execution_count": 6,
     "metadata": {},
     "output_type": "execute_result"
    }
   ],
   "source": [
    "chunks = [chunk for chunk in sentWordsNER if hasattr(chunk, 'label')]\n",
    "chunks"
   ]
  },
  {
   "cell_type": "code",
   "execution_count": 7,
   "metadata": {
    "collapsed": false
   },
   "outputs": [
    {
     "data": {
      "text/plain": [
       "[[Tree('PERSON', [('Gale', 'NNP')])], [], [], [], []]"
      ]
     },
     "execution_count": 7,
     "metadata": {},
     "output_type": "execute_result"
    }
   ],
   "source": [
    "subtrees = [chunk.subtrees() for chunk in chunks]\n",
    "entities = [[ s for s in st if s.label() == \"PERSON\"] for st in subtrees]\n",
    "entities"
   ]
  },
  {
   "cell_type": "code",
   "execution_count": 8,
   "metadata": {
    "collapsed": false
   },
   "outputs": [
    {
     "data": {
      "text/plain": [
       "[['Gale'], [], [], [], []]"
      ]
     },
     "execution_count": 8,
     "metadata": {},
     "output_type": "execute_result"
    }
   ],
   "source": [
    "entities = [[ ' '.join(c[0] for c in s.leaves()) for s in st] for st in entities]\n",
    "entities"
   ]
  },
  {
   "cell_type": "code",
   "execution_count": 9,
   "metadata": {
    "collapsed": false
   },
   "outputs": [
    {
     "data": {
      "text/plain": [
       "['After the reaping, everyone is supposed to celebrate.',\n",
       " 'And a lot of people do, out of relief that their children have been spared for another year.',\n",
       " 'But at least two families will pull their shutters, lock their doors, and try to figure out how they will survive the painful weeks to come.']"
      ]
     },
     "execution_count": 9,
     "metadata": {},
     "output_type": "execute_result"
    }
   ],
   "source": [
    "text = \"After the reaping, everyone is supposed to celebrate. And a lot of people do, out of relief that their children have been spared for another year. But at least two families will pull their shutters, lock their doors, and try to figure out how they will survive the painful weeks to come.\"\n",
    "\n",
    "sents = sent_tokenize(text)\n",
    "sents"
   ]
  },
  {
   "cell_type": "code",
   "execution_count": 10,
   "metadata": {
    "collapsed": false
   },
   "outputs": [
    {
     "data": {
      "text/plain": [
       "[0.5719, 0.4767, -0.4404]"
      ]
     },
     "execution_count": 10,
     "metadata": {},
     "output_type": "execute_result"
    }
   ],
   "source": [
    "sid = SentimentIntensityAnalyzer()\n",
    "sentiment = [sid.polarity_scores(s)[\"compound\"] for s in sents]\n",
    "sentiment"
   ]
  },
  {
   "cell_type": "code",
   "execution_count": null,
   "metadata": {
    "collapsed": true
   },
   "outputs": [],
   "source": []
  }
 ],
 "metadata": {
  "kernelspec": {
   "display_name": "Python 2",
   "language": "python",
   "name": "python2"
  },
  "language_info": {
   "codemirror_mode": {
    "name": "ipython",
    "version": 2
   },
   "file_extension": ".py",
   "mimetype": "text/x-python",
   "name": "python",
   "nbconvert_exporter": "python",
   "pygments_lexer": "ipython2",
   "version": "2.7.12"
  }
 },
 "nbformat": 4,
 "nbformat_minor": 2
}
