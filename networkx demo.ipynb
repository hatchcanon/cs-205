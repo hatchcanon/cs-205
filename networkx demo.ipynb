{
 "cells": [
  {
   "cell_type": "code",
   "execution_count": 1,
   "metadata": {
    "collapsed": true
   },
   "outputs": [],
   "source": [
    "import networkx as nx"
   ]
  },
  {
   "cell_type": "code",
   "execution_count": 2,
   "metadata": {
    "collapsed": true
   },
   "outputs": [],
   "source": [
    "G = nx.DiGraph()"
   ]
  },
  {
   "cell_type": "code",
   "execution_count": 3,
   "metadata": {
    "collapsed": true
   },
   "outputs": [],
   "source": [
    "for p in [\"p1\",\"p2\"]:\n",
    "    for n in range(11):\n",
    "        G.add_node(p + \"-\" + str(n))"
   ]
  },
  {
   "cell_type": "code",
   "execution_count": 4,
   "metadata": {
    "collapsed": false
   },
   "outputs": [
    {
     "data": {
      "text/plain": [
       "['p1-8',\n",
       " 'p1-9',\n",
       " 'p1-2',\n",
       " 'p1-3',\n",
       " 'p2-10',\n",
       " 'p2-5',\n",
       " 'p2-4',\n",
       " 'p2-7',\n",
       " 'p2-6',\n",
       " 'p2-1',\n",
       " 'p2-0',\n",
       " 'p2-3',\n",
       " 'p2-2',\n",
       " 'p1-6',\n",
       " 'p1-7',\n",
       " 'p1-4',\n",
       " 'p1-5',\n",
       " 'p2-9',\n",
       " 'p2-8',\n",
       " 'p1-0',\n",
       " 'p1-1',\n",
       " 'p1-10']"
      ]
     },
     "execution_count": 4,
     "metadata": {},
     "output_type": "execute_result"
    }
   ],
   "source": [
    "G.nodes()"
   ]
  },
  {
   "cell_type": "code",
   "execution_count": 8,
   "metadata": {
    "collapsed": false
   },
   "outputs": [],
   "source": [
    "for p in [\"p1\",\"p2\"]:\n",
    "    for n in range(11):\n",
    "        if p== \"p1\":\n",
    "            other = \"p2\"\n",
    "        else:\n",
    "            other = \"p1\"\n",
    "        if n - 1>= 0:\n",
    "            G.add_edge(\n",
    "                p + \"-\" + str(n),\n",
    "                other + \"-\" + str(n-1)\n",
    "            )\n",
    "        if n - 2>= 0:\n",
    "            G.add_edge(\n",
    "                p + \"-\" + str(n),\n",
    "                other + \"-\" + str(n-2)\n",
    "            )"
   ]
  },
  {
   "cell_type": "code",
   "execution_count": 9,
   "metadata": {
    "collapsed": false
   },
   "outputs": [
    {
     "data": {
      "text/plain": [
       "[('p1-8', 'p2-7'),\n",
       " ('p1-8', 'p2-6'),\n",
       " ('p1-9', 'p2-7'),\n",
       " ('p1-9', 'p2-8'),\n",
       " ('p1-2', 'p2-1'),\n",
       " ('p1-2', 'p2-0'),\n",
       " ('p1-3', 'p2-1'),\n",
       " ('p1-3', 'p2-2'),\n",
       " ('p2-10', 'p1-8'),\n",
       " ('p2-10', 'p1-9'),\n",
       " ('p2-5', 'p1-4'),\n",
       " ('p2-5', 'p1-3'),\n",
       " ('p2-4', 'p1-2'),\n",
       " ('p2-4', 'p1-3'),\n",
       " ('p2-7', 'p1-6'),\n",
       " ('p2-7', 'p1-5'),\n",
       " ('p2-6', 'p1-4'),\n",
       " ('p2-6', 'p1-5'),\n",
       " ('p2-1', 'p1-0'),\n",
       " ('p2-3', 'p1-2'),\n",
       " ('p2-3', 'p1-1'),\n",
       " ('p2-2', 'p1-0'),\n",
       " ('p2-2', 'p1-1'),\n",
       " ('p1-6', 'p2-5'),\n",
       " ('p1-6', 'p2-4'),\n",
       " ('p1-7', 'p2-5'),\n",
       " ('p1-7', 'p2-6'),\n",
       " ('p1-4', 'p2-3'),\n",
       " ('p1-4', 'p2-2'),\n",
       " ('p1-5', 'p2-4'),\n",
       " ('p1-5', 'p2-3'),\n",
       " ('p2-9', 'p1-7'),\n",
       " ('p2-9', 'p1-8'),\n",
       " ('p2-8', 'p1-6'),\n",
       " ('p2-8', 'p1-7'),\n",
       " ('p1-1', 'p2-0'),\n",
       " ('p1-10', 'p2-9'),\n",
       " ('p1-10', 'p2-8')]"
      ]
     },
     "execution_count": 9,
     "metadata": {},
     "output_type": "execute_result"
    }
   ],
   "source": [
    "G.edges()"
   ]
  },
  {
   "cell_type": "code",
   "execution_count": null,
   "metadata": {
    "collapsed": true
   },
   "outputs": [],
   "source": []
  }
 ],
 "metadata": {
  "kernelspec": {
   "display_name": "Python 2",
   "language": "python",
   "name": "python2"
  },
  "language_info": {
   "codemirror_mode": {
    "name": "ipython",
    "version": 2
   },
   "file_extension": ".py",
   "mimetype": "text/x-python",
   "name": "python",
   "nbconvert_exporter": "python",
   "pygments_lexer": "ipython2",
   "version": "2.7.12"
  }
 },
 "nbformat": 4,
 "nbformat_minor": 2
}
