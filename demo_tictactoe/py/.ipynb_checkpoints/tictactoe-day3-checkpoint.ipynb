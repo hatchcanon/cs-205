{
 "cells": [
  {
   "cell_type": "markdown",
   "metadata": {},
   "source": [
    "## Tic-tac-toe\n",
    "\n",
    "Using graphs, we will explore the state space of a game of tic-tac-toe!"
   ]
  },
  {
   "cell_type": "code",
   "execution_count": 1,
   "metadata": {
    "collapsed": true
   },
   "outputs": [],
   "source": [
    "import networkx as nx"
   ]
  },
  {
   "cell_type": "code",
   "execution_count": 2,
   "metadata": {
    "collapsed": false
   },
   "outputs": [],
   "source": [
    "def isWinningState(state):\n",
    "    winningIndexes = [\n",
    "        # Horz\n",
    "        [0, 1, 2],\n",
    "        [3, 4, 5],\n",
    "        [6, 7, 8],\n",
    "        \n",
    "        # Vert\n",
    "        [0, 3, 6],\n",
    "        [1, 4, 7],\n",
    "        [2, 5, 8],\n",
    "        \n",
    "        # Diag\n",
    "        [0, 4, 8],\n",
    "        [2, 4, 6]\n",
    "    ]\n",
    "    \n",
    "    for i in range(len(winningIndexes)):\n",
    "        win_index1 = winningIndexes[i][0]\n",
    "        win_index2 = winningIndexes[i][1]\n",
    "        win_index3 = winningIndexes[i][2]\n",
    "        \n",
    "        if state[win_index1] == state[win_index2] and \\\n",
    "        state[win_index2] == state[win_index3]:\n",
    "                if state[win_index1] == \"X\":\n",
    "                    # X is the winner\n",
    "                    return \"X\"\n",
    "                elif state[win_index1] == \"O\":\n",
    "                    # O is the winner\n",
    "                    return \"O\"\n",
    "                    \n",
    "    return \"-\"\n",
    "        "
   ]
  },
  {
   "cell_type": "code",
   "execution_count": 3,
   "metadata": {
    "collapsed": true
   },
   "outputs": [],
   "source": [
    "def getNextPlayer(state):\n",
    "    x_ct = 0\n",
    "    o_ct = 0\n",
    "    for i in range(len(state)):\n",
    "        if state[i] == \"X\":\n",
    "            x_ct += 1\n",
    "        if state[i] == \"O\":\n",
    "            o_ct += 1\n",
    "            \n",
    "    if x_ct == o_ct:\n",
    "        return \"X\"\n",
    "    else:\n",
    "        return \"O\""
   ]
  },
  {
   "cell_type": "code",
   "execution_count": 4,
   "metadata": {
    "collapsed": true
   },
   "outputs": [],
   "source": [
    "def getNextMoves(state):\n",
    "    nextStates = []\n",
    "    if isWinningState(state) == \"X\" or isWinningState(state) == \"O\":\n",
    "        return nextStates\n",
    "    \n",
    "    nextPlayer = getNextPlayer(state)\n",
    "    for i in range(len(state)):\n",
    "        if state[i] == \"-\":\n",
    "            nextState = list(state)  # makes a copy of the list\n",
    "            nextState[i] = nextPlayer\n",
    "            nextStates.append(nextState)\n",
    "    return nextStates"
   ]
  },
  {
   "cell_type": "code",
   "execution_count": 14,
   "metadata": {
    "collapsed": false
   },
   "outputs": [],
   "source": [
    "def makeNextMoves(state, nodeId):\n",
    "    global nextId\n",
    "    nextMoves = getNextMoves(state)\n",
    "    for nextMove in nextMoves:\n",
    "        nextId += 1\n",
    "        score = 0\n",
    "        if isWinningState(nextMove) == \"x\":\n",
    "            score = 1\n",
    "        elif isWinningState(nextMove) == \"O\":\n",
    "            score = -1\n",
    "        #G.add_node(nextId, board = nextMove, score = score)\n",
    "        G.add_node(nextId, {\n",
    "            \"board\": nextMove\n",
    "            \"score\": score,\n",
    "            \"nextPlayer\": getNextPlayer(nextMove)\n",
    "        })\n",
    "        G.add_edge(nodeId, nextId)\n",
    "        makeNextMoves(nextMove, nextId)"
   ]
  },
  {
   "cell_type": "code",
   "execution_count": 25,
   "metadata": {
    "collapsed": false
   },
   "outputs": [],
   "source": [
    "def updateByRules(nodeId):\n",
    "    nextPlayer = G.node[nodeId][\"nextPlayer\"]\n",
    "    updatedScore = 0\n",
    "    \n",
    "    #stop updating\n",
    "    \n",
    "    for childNodeId in list( G[nodeId].keys()):\n",
    "        if G.node[childNodeId][\"score\"] == 1 and nextPlayer == \"X\":\n",
    "            updatedScore = 1\n",
    "        if G.node[childNodeId][\"score\"] == -1 and nextPlayer == \"O\":\n",
    "            updatedScore =-1\n",
    "        updateByRules(childNodeId)\n",
    "    G.node[nodeId][\"score\"] = updatedScore\n",
    "# Find attributes abouta node\n",
    "#G.node[1][\"nextPlayer\"]\n",
    "#find edges about a node\n",
    "#G[1]\n",
    "#find list of all children nodes\n",
    "#list( G[1].keys() )"
   ]
  },
  {
   "cell_type": "code",
   "execution_count": 27,
   "metadata": {
    "collapsed": false
   },
   "outputs": [
    {
     "ename": "KeyError",
     "evalue": "'nextPlayer'",
     "output_type": "error",
     "traceback": [
      "\u001b[0;31m\u001b[0m",
      "\u001b[0;31mKeyError\u001b[0mTraceback (most recent call last)",
      "\u001b[0;32m<ipython-input-27-c842ad4b7383>\u001b[0m in \u001b[0;36m<module>\u001b[0;34m()\u001b[0m\n\u001b[1;32m      6\u001b[0m \u001b[0mmakeNextMoves\u001b[0m\u001b[1;33m(\u001b[0m\u001b[0minitState\u001b[0m\u001b[1;33m,\u001b[0m \u001b[0mnextId\u001b[0m\u001b[1;33m)\u001b[0m\u001b[1;33m\u001b[0m\u001b[0m\n\u001b[1;32m      7\u001b[0m \u001b[1;33m\u001b[0m\u001b[0m\n\u001b[0;32m----> 8\u001b[0;31m \u001b[0mupdateByRules\u001b[0m\u001b[1;33m(\u001b[0m\u001b[1;36m1\u001b[0m\u001b[1;33m)\u001b[0m\u001b[1;33m\u001b[0m\u001b[0m\n\u001b[0m",
      "\u001b[0;32m<ipython-input-25-f4dce9791650>\u001b[0m in \u001b[0;36mupdateByRules\u001b[0;34m(nodeId)\u001b[0m\n\u001b[1;32m      8\u001b[0m         \u001b[1;32mif\u001b[0m \u001b[0mG\u001b[0m\u001b[1;33m.\u001b[0m\u001b[0mnode\u001b[0m\u001b[1;33m[\u001b[0m\u001b[0mchildNodeId\u001b[0m\u001b[1;33m]\u001b[0m\u001b[1;33m[\u001b[0m\u001b[1;34m\"score\"\u001b[0m\u001b[1;33m]\u001b[0m \u001b[1;33m==\u001b[0m \u001b[1;33m-\u001b[0m\u001b[1;36m1\u001b[0m \u001b[1;32mand\u001b[0m \u001b[0mnextPlayer\u001b[0m \u001b[1;33m==\u001b[0m \u001b[1;34m\"O\"\u001b[0m\u001b[1;33m:\u001b[0m\u001b[1;33m\u001b[0m\u001b[0m\n\u001b[1;32m      9\u001b[0m             \u001b[0mupdatedScore\u001b[0m \u001b[1;33m=\u001b[0m\u001b[1;33m-\u001b[0m\u001b[1;36m1\u001b[0m\u001b[1;33m\u001b[0m\u001b[0m\n\u001b[0;32m---> 10\u001b[0;31m         \u001b[0mupdateByRules\u001b[0m\u001b[1;33m(\u001b[0m\u001b[0mchildNodeId\u001b[0m\u001b[1;33m)\u001b[0m\u001b[1;33m\u001b[0m\u001b[0m\n\u001b[0m\u001b[1;32m     11\u001b[0m     \u001b[0mG\u001b[0m\u001b[1;33m.\u001b[0m\u001b[0mnode\u001b[0m\u001b[1;33m[\u001b[0m\u001b[0mnodeId\u001b[0m\u001b[1;33m]\u001b[0m\u001b[1;33m[\u001b[0m\u001b[1;34m\"score\"\u001b[0m\u001b[1;33m]\u001b[0m \u001b[1;33m=\u001b[0m \u001b[0mupdatedScore\u001b[0m\u001b[1;33m\u001b[0m\u001b[0m\n\u001b[1;32m     12\u001b[0m \u001b[1;31m# Find attributes abouta node\u001b[0m\u001b[1;33m\u001b[0m\u001b[1;33m\u001b[0m\u001b[0m\n",
      "\u001b[0;32m<ipython-input-25-f4dce9791650>\u001b[0m in \u001b[0;36mupdateByRules\u001b[0;34m(nodeId)\u001b[0m\n\u001b[1;32m      1\u001b[0m \u001b[1;32mdef\u001b[0m \u001b[0mupdateByRules\u001b[0m\u001b[1;33m(\u001b[0m\u001b[0mnodeId\u001b[0m\u001b[1;33m)\u001b[0m\u001b[1;33m:\u001b[0m\u001b[1;33m\u001b[0m\u001b[0m\n\u001b[0;32m----> 2\u001b[0;31m     \u001b[0mnextPlayer\u001b[0m \u001b[1;33m=\u001b[0m \u001b[0mG\u001b[0m\u001b[1;33m.\u001b[0m\u001b[0mnode\u001b[0m\u001b[1;33m[\u001b[0m\u001b[0mnodeId\u001b[0m\u001b[1;33m]\u001b[0m\u001b[1;33m[\u001b[0m\u001b[1;34m\"nextPlayer\"\u001b[0m\u001b[1;33m]\u001b[0m\u001b[1;33m\u001b[0m\u001b[0m\n\u001b[0m\u001b[1;32m      3\u001b[0m     \u001b[0mupdatedScore\u001b[0m \u001b[1;33m=\u001b[0m \u001b[1;36m0\u001b[0m\u001b[1;33m\u001b[0m\u001b[0m\n\u001b[1;32m      4\u001b[0m \u001b[1;33m\u001b[0m\u001b[0m\n\u001b[1;32m      5\u001b[0m     \u001b[1;32mfor\u001b[0m \u001b[0mchildNodeId\u001b[0m \u001b[1;32min\u001b[0m \u001b[0mlist\u001b[0m\u001b[1;33m(\u001b[0m \u001b[0mG\u001b[0m\u001b[1;33m[\u001b[0m\u001b[0mnodeId\u001b[0m\u001b[1;33m]\u001b[0m\u001b[1;33m.\u001b[0m\u001b[0mkeys\u001b[0m\u001b[1;33m(\u001b[0m\u001b[1;33m)\u001b[0m\u001b[1;33m)\u001b[0m\u001b[1;33m:\u001b[0m\u001b[1;33m\u001b[0m\u001b[0m\n",
      "\u001b[0;31mKeyError\u001b[0m: 'nextPlayer'"
     ]
    }
   ],
   "source": [
    "G = nx.DiGraph()\n",
    "nextId = 1\n",
    "\n",
    "initState = [\"X\", \"-\", \"-\", \"-\", \"X\", \"O\", \"O\", \"-\", \"-\"]\n",
    "G.add_node(nextId, board = initState, nextPlayer = getNextPlayer(initState), score = 0)\n",
    "makeNextMoves(initState, nextId)\n",
    "\n",
    "updateByRules(1)"
   ]
  },
  {
   "cell_type": "code",
   "execution_count": 24,
   "metadata": {
    "collapsed": false
   },
   "outputs": [],
   "source": [
    "import json\n",
    "with open(\"../res/tree.json\", \"w\") as f:\n",
    "    from networkx.readwrite import json_graph\n",
    "    data = json_graph.tree_data(G, root=1)\n",
    "    json.dump(data, f, indent=2)"
   ]
  },
  {
   "cell_type": "code",
   "execution_count": null,
   "metadata": {
    "collapsed": true
   },
   "outputs": [],
   "source": []
  }
 ],
 "metadata": {
  "kernelspec": {
   "display_name": "Python 2",
   "language": "python",
   "name": "python2"
  },
  "language_info": {
   "codemirror_mode": {
    "name": "ipython",
    "version": 2
   },
   "file_extension": ".py",
   "mimetype": "text/x-python",
   "name": "python",
   "nbconvert_exporter": "python",
   "pygments_lexer": "ipython2",
   "version": "2.7.12"
  }
 },
 "nbformat": 4,
 "nbformat_minor": 0
}
