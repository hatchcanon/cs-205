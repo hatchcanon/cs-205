{
 "cells": [
  {
   "cell_type": "markdown",
   "metadata": {},
   "source": [
    "## Tic-tac-toe\n",
    "\n",
    "Using graphs, we will explore the state space of a game of tic-tac-toe!"
   ]
  },
  {
   "cell_type": "code",
   "execution_count": 1,
   "metadata": {
    "collapsed": true
   },
   "outputs": [],
   "source": [
    "import networkx as nx"
   ]
  },
  {
   "cell_type": "code",
   "execution_count": null,
   "metadata": {
    "collapsed": true
   },
   "outputs": [],
   "source": [
    "def isWinningState(state):\n",
    "    winningIndexes = [\n",
    "        # Horz\n",
    "        [0,1,2],\n",
    "        [3,4,5],\n",
    "        [6,7,8],\n",
    "        #Vert\n",
    "        [0,3,6],\n",
    "        [1,4,7],\n",
    "        [2,5,8],\n",
    "        #Diag\n",
    "        [0,4,8],\n",
    "        [2,4,6]\n",
    "    ]\n",
    "    for i in range(len(winningIndex)):\n",
    "        win_index1 = wininningIndex[i][0]\n",
    "        win_index1 = wininningIndex[i][1]\n",
    "        win_index1 = wininningIndex[i][2]\n",
    "        \n",
    "        if state[win_index1] == state[win_index] and state[win_index2] == state[win_index3]:\n",
    "            if state[win_index1] == \"X\":\n",
    "                # X is winner\n",
    "                return \"X\"\n",
    "            elif state state[win_index1] == \"O\":\n",
    "                # O is the winner\n",
    "                return \"O\"\n",
    "    return \"-\""
   ]
  },
  {
   "cell_type": "code",
   "execution_count": 18,
   "metadata": {
    "collapsed": true
   },
   "outputs": [],
   "source": [
    "def getNextPlayer(state):\n",
    "    x_ct = 0\n",
    "    o_ct = 0\n",
    "    for i in range(len(state)):\n",
    "        if state[i] == \"X\":\n",
    "            x_ct +=1\n",
    "        if state[i] == \"O\":\n",
    "            o_ct +=1\n",
    "            \n",
    "    if x_ct == o_ct:\n",
    "        return \"X\"\n",
    "    else:\n",
    "        return \"O\""
   ]
  },
  {
   "cell_type": "code",
   "execution_count": 19,
   "metadata": {
    "collapsed": true
   },
   "outputs": [],
   "source": [
    "def getNextMoves(state):\n",
    "    nextStates = []\n",
    "    nextPlayer = getNextPlayer(state)\n",
    "    for i in range(len(state)):\n",
    "        if state[i] == \"-\":\n",
    "            nextState = list(state) # makes copy of list\n",
    "            nextState[i] = nextPlayer\n",
    "            nextStates.append(nextState)\n",
    "    return nextStates"
   ]
  },
  {
   "cell_type": "code",
   "execution_count": 20,
   "metadata": {
    "collapsed": false
   },
   "outputs": [
    {
     "data": {
      "text/plain": [
       "[['X', 'X', 'O', 'O', '-', '-', '-', '-', '0', '-'],\n",
       " ['X', 'X', '-', 'O', 'O', '-', '-', '-', '0', '-'],\n",
       " ['X', 'X', '-', 'O', '-', 'O', '-', '-', '0', '-'],\n",
       " ['X', 'X', '-', 'O', '-', '-', 'O', '-', '0', '-'],\n",
       " ['X', 'X', '-', 'O', '-', '-', '-', 'O', '0', '-'],\n",
       " ['X', 'X', '-', 'O', '-', '-', '-', '-', '0', 'O']]"
      ]
     },
     "execution_count": 20,
     "metadata": {},
     "output_type": "execute_result"
    }
   ],
   "source": [
    "G = nx.DiGraph()\n",
    "\n",
    "initState = [\"X\", \"X\", \"-\", \"O\", \"-\", \"-\", \"-\", \"-\", \"0\", \"-\"]\n",
    "G.add_node(str(initState), state=initState)\n",
    "nextMoves = getNextMoves(initState)\n",
    "nextMoves"
   ]
  },
  {
   "cell_type": "code",
   "execution_count": null,
   "metadata": {
    "collapsed": false
   },
   "outputs": [],
   "source": [
    "import json\n",
    "with open(\"../res/tree.json\", \"w\") as f:\n",
    "    from networkx.readwrite import json_graph\n",
    "    data = json_graph.tree_data(G, root=1)\n",
    "    json.dump(data, f, indent=2)"
   ]
  },
  {
   "cell_type": "code",
   "execution_count": null,
   "metadata": {
    "collapsed": true
   },
   "outputs": [],
   "source": []
  }
 ],
 "metadata": {
  "kernelspec": {
   "display_name": "Python 2",
   "language": "python",
   "name": "python2"
  },
  "language_info": {
   "codemirror_mode": {
    "name": "ipython",
    "version": 2
   },
   "file_extension": ".py",
   "mimetype": "text/x-python",
   "name": "python",
   "nbconvert_exporter": "python",
   "pygments_lexer": "ipython2",
   "version": "2.7.12"
  }
 },
 "nbformat": 4,
 "nbformat_minor": 0
}
