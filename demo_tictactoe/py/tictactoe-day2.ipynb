{
 "cells": [
  {
   "cell_type": "markdown",
   "metadata": {},
   "source": [
    "## Tic-tac-toe\n",
    "\n",
    "Using graphs, we will explore the state space of a game of tic-tac-toe!"
   ]
  },
  {
   "cell_type": "code",
   "execution_count": 4,
   "metadata": {
    "collapsed": true
   },
   "outputs": [],
   "source": [
    "import networkx as nx"
   ]
  },
  {
   "cell_type": "code",
   "execution_count": 9,
   "metadata": {
    "collapsed": false
   },
   "outputs": [],
   "source": [
    "def isWinningState(state):\n",
    "    winningIndexes = [\n",
    "        # Horz\n",
    "        [0, 1, 2],\n",
    "        [3, 4, 5],\n",
    "        [6, 7, 8],\n",
    "        \n",
    "        # Vert\n",
    "        [0, 3, 6],\n",
    "        [1, 4, 7],\n",
    "        [2, 5, 8],\n",
    "        \n",
    "        # Diag\n",
    "        [0, 4, 8],\n",
    "        [2, 4, 6]\n",
    "    ]\n",
    "    \n",
    "    for i in range(len(winningIndexes)):\n",
    "        win_index1 = winningIndexes[i][0]\n",
    "        win_index2 = winningIndexes[i][1]\n",
    "        win_index3 = winningIndexes[i][2]\n",
    "        \n",
    "        if state[win_index1] == state[win_index2] and \\\n",
    "        state[win_index2] == state[win_index3]:\n",
    "                if state[win_index1] == \"X\":\n",
    "                    # X is the winner\n",
    "                    return \"X\"\n",
    "                elif state[win_index1] == \"O\":\n",
    "                    # O is the winner\n",
    "                    return \"O\"\n",
    "                    \n",
    "    return \"-\"\n",
    "        "
   ]
  },
  {
   "cell_type": "code",
   "execution_count": 10,
   "metadata": {
    "collapsed": true
   },
   "outputs": [],
   "source": [
    "def getNextPlayer(state):\n",
    "    x_ct = 0\n",
    "    o_ct = 0\n",
    "    for i in range(len(state)):\n",
    "        if state[i] == \"X\":\n",
    "            x_ct += 1\n",
    "        if state[i] == \"O\":\n",
    "            o_ct += 1\n",
    "            \n",
    "    if x_ct == o_ct:\n",
    "        return \"X\"\n",
    "    else:\n",
    "        return \"O\""
   ]
  },
  {
   "cell_type": "code",
   "execution_count": 11,
   "metadata": {
    "collapsed": true
   },
   "outputs": [],
   "source": [
    "def getNextMoves(state):\n",
    "    nextStates = []\n",
    "    if isWinningState(state) == \"X\" or isWinningState(state) == \"O\":\n",
    "        return nextStates\n",
    "    \n",
    "    nextPlayer = getNextPlayer(state)\n",
    "    for i in range(len(state)):\n",
    "        if state[i] == \"-\":\n",
    "            nextState = list(state)  # makes a copy of the list\n",
    "            nextState[i] = nextPlayer\n",
    "            nextStates.append(nextState)\n",
    "    return nextStates"
   ]
  },
  {
   "cell_type": "code",
   "execution_count": 23,
   "metadata": {
    "collapsed": true
   },
   "outputs": [],
   "source": [
    "nextId = 1\n",
    "\n",
    "def makeNextMoves(state, nodeId):\n",
    "    global nextId\n",
    "    nextMoves = getNextMoves(state)\n",
    "    for nextMove in nextMoves:\n",
    "        nextId += 1\n",
    "        G.add_node(nextId, state = nextMove)\n",
    "        G.add_edge(nodeId, nextId)\n",
    "        makeNextMoves(nextMove, nextId)"
   ]
  },
  {
   "cell_type": "code",
   "execution_count": 26,
   "metadata": {
    "collapsed": false
   },
   "outputs": [
    {
     "ename": "KeyError",
     "evalue": "'state'",
     "output_type": "error",
     "traceback": [
      "\u001b[0;31m\u001b[0m",
      "\u001b[0;31mKeyError\u001b[0mTraceback (most recent call last)",
      "\u001b[0;32m<ipython-input-26-847cb54e7cbd>\u001b[0m in \u001b[0;36m<module>\u001b[0;34m()\u001b[0m\n\u001b[1;32m      7\u001b[0m \u001b[1;33m\u001b[0m\u001b[0m\n\u001b[1;32m      8\u001b[0m \u001b[1;32mfor\u001b[0m \u001b[0mnode\u001b[0m \u001b[1;32min\u001b[0m \u001b[0mG\u001b[0m\u001b[1;33m.\u001b[0m\u001b[0mnodes\u001b[0m\u001b[1;33m(\u001b[0m\u001b[1;33m)\u001b[0m\u001b[1;33m:\u001b[0m\u001b[1;33m\u001b[0m\u001b[0m\n\u001b[0;32m----> 9\u001b[0;31m     \u001b[1;32mprint\u001b[0m\u001b[1;33m(\u001b[0m\u001b[0mstr\u001b[0m\u001b[1;33m(\u001b[0m\u001b[0mG\u001b[0m\u001b[1;33m.\u001b[0m\u001b[0mnode\u001b[0m\u001b[1;33m[\u001b[0m\u001b[0mnode\u001b[0m\u001b[1;33m]\u001b[0m\u001b[1;33m[\u001b[0m\u001b[1;34m\"state\"\u001b[0m\u001b[1;33m]\u001b[0m\u001b[1;33m)\u001b[0m \u001b[1;33m+\u001b[0m \u001b[1;34m\" \"\u001b[0m \u001b[1;33m+\u001b[0m \u001b[1;34m\" => \"\u001b[0m\u001b[1;33m)\u001b[0m\u001b[1;33m\u001b[0m\u001b[0m\n\u001b[0m\u001b[1;32m     10\u001b[0m     \u001b[1;32mprint\u001b[0m\u001b[1;33m(\u001b[0m\u001b[0mG\u001b[0m\u001b[1;33m[\u001b[0m\u001b[0mnode\u001b[0m\u001b[1;33m]\u001b[0m\u001b[1;33m)\u001b[0m\u001b[1;33m\u001b[0m\u001b[0m\n",
      "\u001b[0;31mKeyError\u001b[0m: 'state'"
     ]
    }
   ],
   "source": [
    "G = nx.DiGraph()\n",
    "nextId = 1\n",
    "\n",
    "initState = [\"X\", \"X\", \"-\", \"O\", \"-\", \"-\", \"-\", \"O\", \"-\"]\n",
    "G.add_node(str(initState) + str(nextId), state=initState)\n",
    "makeNextMoves(initState, nextId)\n",
    "\n",
    "for node in G.nodes():\n",
    "    print(str(G.node[node][\"state\"]) + \" \" + \" => \")\n",
    "    print(G[node])"
   ]
  },
  {
   "cell_type": "code",
   "execution_count": null,
   "metadata": {
    "collapsed": false
   },
   "outputs": [],
   "source": [
    "import json\n",
    "with open(\"../res/tree.json\", \"w\") as f:\n",
    "    from networkx.readwrite import json_graph\n",
    "    data = json_graph.tree_data(G, root=1)\n",
    "    json.dump(data, f, indent=2)"
   ]
  },
  {
   "cell_type": "code",
   "execution_count": null,
   "metadata": {
    "collapsed": true
   },
   "outputs": [],
   "source": []
  }
 ],
 "metadata": {
  "kernelspec": {
   "display_name": "Python 2",
   "language": "python",
   "name": "python2"
  },
  "language_info": {
   "codemirror_mode": {
    "name": "ipython",
    "version": 2
   },
   "file_extension": ".py",
   "mimetype": "text/x-python",
   "name": "python",
   "nbconvert_exporter": "python",
   "pygments_lexer": "ipython2",
   "version": "2.7.12"
  }
 },
 "nbformat": 4,
 "nbformat_minor": 0
}
