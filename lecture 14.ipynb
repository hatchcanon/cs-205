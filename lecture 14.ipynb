{
 "cells": [
  {
   "cell_type": "code",
   "execution_count": 1,
   "metadata": {
    "collapsed": true
   },
   "outputs": [],
   "source": [
    "import networkx as nx"
   ]
  },
  {
   "cell_type": "code",
   "execution_count": 2,
   "metadata": {
    "collapsed": false
   },
   "outputs": [
    {
     "data": {
      "text/plain": [
       "<networkx.classes.graph.Graph at 0x69a3fd0>"
      ]
     },
     "execution_count": 2,
     "metadata": {},
     "output_type": "execute_result"
    }
   ],
   "source": [
    "G = nx.Graph()\n",
    "G"
   ]
  },
  {
   "cell_type": "code",
   "execution_count": 5,
   "metadata": {
    "collapsed": true
   },
   "outputs": [],
   "source": [
    "G.add_node(\"A\")\n",
    "G.add_node(\"B\")\n",
    "G.add_node(\"C\")\n",
    "G.add_node(\"D\")\n",
    "G.add_node(\"E\")\n",
    "G.add_node(\"F\")\n",
    "G.add_node(\"G\")"
   ]
  },
  {
   "cell_type": "code",
   "execution_count": 6,
   "metadata": {
    "collapsed": false
   },
   "outputs": [
    {
     "data": {
      "text/plain": [
       "['A', 'C', 'B', 'E', 'D', 'G', 'F']"
      ]
     },
     "execution_count": 6,
     "metadata": {},
     "output_type": "execute_result"
    }
   ],
   "source": [
    "G.nodes()"
   ]
  },
  {
   "cell_type": "code",
   "execution_count": 7,
   "metadata": {
    "collapsed": true
   },
   "outputs": [],
   "source": [
    "G.add_edge(\"A\",\"B\", weight=3)\n",
    "G.add_edge(\"A\",\"E\", weight=4)\n",
    "G.add_edge(\"A\",\"G\", weight=5)\n",
    "\n",
    "G.add_edge(\"B\",\"D\", weight=10)\n",
    "G.add_edge(\"B\",\"E\", weight=8)\n",
    "\n",
    "G.add_edge(\"C\",\"D\", weight=8)\n",
    "G.add_edge(\"C\",\"E\", weight=3)\n",
    "G.add_edge(\"C\",\"G\", weight=7)\n",
    "\n",
    "G.add_edge(\"D\",\"E\", weight=5)\n",
    "G.add_edge(\"F\",\"G\", weight=3)"
   ]
  },
  {
   "cell_type": "code",
   "execution_count": 8,
   "metadata": {
    "collapsed": false
   },
   "outputs": [
    {
     "data": {
      "text/plain": [
       "[('A', 'B'),\n",
       " ('A', 'E'),\n",
       " ('A', 'G'),\n",
       " ('C', 'E'),\n",
       " ('C', 'D'),\n",
       " ('C', 'G'),\n",
       " ('B', 'E'),\n",
       " ('B', 'D'),\n",
       " ('E', 'D'),\n",
       " ('G', 'F')]"
      ]
     },
     "execution_count": 8,
     "metadata": {},
     "output_type": "execute_result"
    }
   ],
   "source": [
    "G.edges()"
   ]
  },
  {
   "cell_type": "code",
   "execution_count": 9,
   "metadata": {
    "collapsed": false
   },
   "outputs": [
    {
     "data": {
      "text/plain": [
       "{'B': {'weight': 3}, 'E': {'weight': 4}, 'G': {'weight': 5}}"
      ]
     },
     "execution_count": 9,
     "metadata": {},
     "output_type": "execute_result"
    }
   ],
   "source": [
    "G[\"A\"]"
   ]
  },
  {
   "cell_type": "code",
   "execution_count": 10,
   "metadata": {
    "collapsed": false
   },
   "outputs": [
    {
     "data": {
      "text/plain": [
       "{'weight': 3}"
      ]
     },
     "execution_count": 10,
     "metadata": {},
     "output_type": "execute_result"
    }
   ],
   "source": [
    "G[\"A\"][\"B\"]"
   ]
  },
  {
   "cell_type": "code",
   "execution_count": 11,
   "metadata": {
    "collapsed": true
   },
   "outputs": [],
   "source": [
    "from itertools import permutations"
   ]
  },
  {
   "cell_type": "code",
   "execution_count": 17,
   "metadata": {
    "collapsed": false
   },
   "outputs": [
    {
     "name": "stdout",
     "output_type": "stream",
     "text": [
      "('A', 'B', 'E', 'D', 'C', 'G', 'F') 34\n",
      "('A', 'B', 'D', 'E', 'C', 'G', 'F') 31\n",
      "('A', 'E', 'B', 'D', 'C', 'G', 'F') 40\n",
      "('C', 'E', 'D', 'B', 'A', 'G', 'F') 29\n",
      "('C', 'D', 'B', 'E', 'A', 'G', 'F') 38\n",
      "('C', 'D', 'E', 'B', 'A', 'G', 'F') 32\n",
      "('B', 'A', 'E', 'D', 'C', 'G', 'F') 30\n",
      "('B', 'D', 'C', 'E', 'A', 'G', 'F') 33\n",
      "('E', 'A', 'B', 'D', 'C', 'G', 'F') 35\n",
      "('E', 'C', 'D', 'B', 'A', 'G', 'F') 32\n",
      "('D', 'C', 'E', 'B', 'A', 'G', 'F') 30\n",
      "('D', 'B', 'A', 'E', 'C', 'G', 'F') 30\n",
      "('F', 'G', 'A', 'B', 'E', 'C', 'D') 30\n",
      "('F', 'G', 'A', 'B', 'E', 'D', 'C') 32\n",
      "('F', 'G', 'A', 'B', 'D', 'C', 'E') 32\n",
      "('F', 'G', 'A', 'B', 'D', 'E', 'C') 29\n",
      "('F', 'G', 'A', 'E', 'C', 'D', 'B') 33\n",
      "('F', 'G', 'A', 'E', 'B', 'D', 'C') 38\n",
      "('F', 'G', 'C', 'E', 'A', 'B', 'D') 30\n",
      "('F', 'G', 'C', 'E', 'D', 'B', 'A') 31\n",
      "('F', 'G', 'C', 'D', 'B', 'A', 'E') 35\n",
      "('F', 'G', 'C', 'D', 'B', 'E', 'A') 40\n",
      "('F', 'G', 'C', 'D', 'E', 'A', 'B') 30\n",
      "('F', 'G', 'C', 'D', 'E', 'B', 'A') 34\n"
     ]
    }
   ],
   "source": [
    "for path in permutations(G.nodes()):\n",
    "    weight = 0\n",
    "    for i in range(len(path) - 1):\n",
    "        #i=0,1,2,3,4,5,6\n",
    "        node_i = path[i] #\"D\"\n",
    "        node_j = path[i+1] #\"A\"\n",
    "        \n",
    "        if G.has_edge(node_i, node_j):\n",
    "            weight = weight + G[node_i][node_j][\"weight\"]\n",
    "        else:\n",
    "            weight = -1\n",
    "            break\n",
    "    if weight != -1:\n",
    "        print( str(path) + \" \" + str(weight) )"
   ]
  },
  {
   "cell_type": "code",
   "execution_count": null,
   "metadata": {
    "collapsed": true
   },
   "outputs": [],
   "source": []
  }
 ],
 "metadata": {
  "kernelspec": {
   "display_name": "Python 2",
   "language": "python",
   "name": "python2"
  },
  "language_info": {
   "codemirror_mode": {
    "name": "ipython",
    "version": 2
   },
   "file_extension": ".py",
   "mimetype": "text/x-python",
   "name": "python",
   "nbconvert_exporter": "python",
   "pygments_lexer": "ipython2",
   "version": "2.7.12"
  }
 },
 "nbformat": 4,
 "nbformat_minor": 2
}
