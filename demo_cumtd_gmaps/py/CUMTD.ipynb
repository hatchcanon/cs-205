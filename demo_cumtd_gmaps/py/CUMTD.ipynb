{
 "cells": [
  {
   "cell_type": "markdown",
   "metadata": {},
   "source": [
    "# CUMTD API"
   ]
  },
  {
   "cell_type": "code",
   "execution_count": 2,
   "metadata": {
    "collapsed": false
   },
   "outputs": [],
   "source": [
    "import urllib.request\n",
    "import urllib.parse\n",
    "import json\n",
    "import datetime"
   ]
  },
  {
   "cell_type": "markdown",
   "metadata": {},
   "source": [
    "## Your CUMTD API Key\n",
    "CUMTD limits the number of times any app can get information about buses by a free API key.  You will need to \"Get an API key\" (the section for this is near the bottom of the page) from here: https://developer.cumtd.com/.\n",
    "\n",
    "Once you've made the request, you will need to **check your e-mail** _and_ **click the link in the e-mail** to get the key.  Once you have it, add it (as a string) to `myKey`:"
   ]
  },
  {
   "cell_type": "code",
   "execution_count": 3,
   "metadata": {
    "collapsed": true
   },
   "outputs": [],
   "source": [
    "myKey = \"1daacd8b269d4754ac53e9f3f0fd7651\""
   ]
  },
  {
   "cell_type": "markdown",
   "metadata": {},
   "source": [
    "https://developer.cumtd.com/api/v2.2/json/GetDeparturesByStop?key=1daacd8b269d4754ac53e9f3f0fd7651&stop_id=IU"
   ]
  },
  {
   "cell_type": "code",
   "execution_count": 5,
   "metadata": {
    "collapsed": false
   },
   "outputs": [],
   "source": [
    "parameters = {\n",
    "    \"key\": myKey,\n",
    "    \"stop_id\": \"IU\",\n",
    "    \"pt\":60,\n",
    "}\n",
    "url = \"https://developer.cumtd.com/api/v2.2/json/GetDeparturesByStop?\" + urllib.parse.urlencode( parameters )"
   ]
  },
  {
   "cell_type": "code",
   "execution_count": 6,
   "metadata": {
    "collapsed": false
   },
   "outputs": [],
   "source": [
    "with urllib.request.urlopen(url) as response:\n",
    "    data_str = response.read() .decode(\"utf-8\")\n",
    "    data = json.loads(data_str)"
   ]
  },
  {
   "cell_type": "code",
   "execution_count": 8,
   "metadata": {
    "collapsed": false
   },
   "outputs": [
    {
     "data": {
      "text/plain": [
       "[{'expected': 0, 'route': '13N Silver', 'route_color': 'cccccc'},\n",
       " {'expected': 1, 'route': '12W Teal', 'route_color': '006991'},\n",
       " {'expected': 1, 'route': '2U Red', 'route_color': 'ed1c24'},\n",
       " {'expected': 3, 'route': '22S Illini', 'route_color': '5a1d5a'},\n",
       " {'expected': 5, 'route': '22N Illini', 'route_color': '5a1d5a'},\n",
       " {'expected': 5, 'route': '21 Raven Vet-Med', 'route_color': '000000'},\n",
       " {'expected': 6, 'route': '13S Silver', 'route_color': 'cccccc'},\n",
       " {'expected': 6, 'route': '13N Silver', 'route_color': 'cccccc'},\n",
       " {'expected': 6, 'route': '12E Teal Orchard Downs', 'route_color': '006991'},\n",
       " {'expected': 9, 'route': '5W Green', 'route_color': '008063'},\n",
       " {'expected': 12, 'route': '22S Illini', 'route_color': '5a1d5a'},\n",
       " {'expected': 13, 'route': '12W Teal', 'route_color': '006991'},\n",
       " {'expected': 13, 'route': '5E Green', 'route_color': '008063'},\n",
       " {'expected': 13, 'route': '22N Illini', 'route_color': '5a1d5a'},\n",
       " {'expected': 15, 'route': '12E Teal PAR', 'route_color': '006991'},\n",
       " {'expected': 16, 'route': '13S Silver', 'route_color': 'cccccc'},\n",
       " {'expected': 16, 'route': '13N Silver', 'route_color': 'cccccc'},\n",
       " {'expected': 21, 'route': '12W Teal', 'route_color': '006991'},\n",
       " {'expected': 22, 'route': '22S Illini', 'route_color': '5a1d5a'},\n",
       " {'expected': 22, 'route': '5W GREENhopper', 'route_color': '008063'},\n",
       " {'expected': 23, 'route': '22N Illini', 'route_color': '5a1d5a'},\n",
       " {'expected': 23, 'route': '2C Red', 'route_color': 'ed1c24'},\n",
       " {'expected': 26, 'route': '13S Silver', 'route_color': 'cccccc'},\n",
       " {'expected': 26, 'route': '13N Silver', 'route_color': 'cccccc'},\n",
       " {'expected': 27, 'route': '12E Teal Orchard Downs', 'route_color': '006991'},\n",
       " {'expected': 27, 'route': '5E GREENhopper', 'route_color': '008063'},\n",
       " {'expected': 30, 'route': '2U Red', 'route_color': 'ed1c24'},\n",
       " {'expected': 31, 'route': '12W Teal', 'route_color': '006991'},\n",
       " {'expected': 32, 'route': '22S Illini', 'route_color': '5a1d5a'},\n",
       " {'expected': 33, 'route': '22N Illini', 'route_color': '5a1d5a'},\n",
       " {'expected': 35, 'route': '21 Raven Vet-Med', 'route_color': '000000'},\n",
       " {'expected': 36, 'route': '13N Silver', 'route_color': 'cccccc'},\n",
       " {'expected': 36, 'route': '13S Silver', 'route_color': 'cccccc'},\n",
       " {'expected': 38, 'route': '5W Green', 'route_color': '008063'},\n",
       " {'expected': 41, 'route': '2C Red', 'route_color': 'ed1c24'},\n",
       " {'expected': 42, 'route': '22S Illini', 'route_color': '5a1d5a'},\n",
       " {'expected': 43, 'route': '22N Illini', 'route_color': '5a1d5a'},\n",
       " {'expected': 45, 'route': '12E Teal Orchard Downs', 'route_color': '006991'},\n",
       " {'expected': 46, 'route': '13N Silver', 'route_color': 'cccccc'},\n",
       " {'expected': 46, 'route': '13S Silver', 'route_color': 'cccccc'},\n",
       " {'expected': 46, 'route': '5E Green', 'route_color': '008063'},\n",
       " {'expected': 52, 'route': '22S Illini', 'route_color': '5a1d5a'},\n",
       " {'expected': 52, 'route': '5W GREENhopper', 'route_color': '008063'},\n",
       " {'expected': 52, 'route': '12W Teal', 'route_color': '006991'},\n",
       " {'expected': 53, 'route': '22N Illini', 'route_color': '5a1d5a'},\n",
       " {'expected': 53, 'route': '8E Bronze', 'route_color': '9e8966'},\n",
       " {'expected': 55, 'route': '12E Teal PAR', 'route_color': '006991'},\n",
       " {'expected': 55, 'route': '5E GREENhopper', 'route_color': '008063'},\n",
       " {'expected': 56, 'route': '13S Silver', 'route_color': 'cccccc'},\n",
       " {'expected': 56, 'route': '13N Silver', 'route_color': 'cccccc'}]"
      ]
     },
     "execution_count": 8,
     "metadata": {},
     "output_type": "execute_result"
    }
   ],
   "source": [
    "result = []\n",
    "for departure in data[\"departures\"]:\n",
    "    #print(departure[\"headsign\"] + \" arrives in \" + str(departure[\"expected_mins\"]))\n",
    "    \n",
    "    d3data = {\n",
    "        \"route\": departure[\"headsign\"],\n",
    "        \"expected\": departure[\"expected_mins\"],\n",
    "        \"route_color\": departure[\"route\"][\"route_color\"]\n",
    "    }\n",
    "    result.append(d3data)\n",
    "result"
   ]
  },
  {
   "cell_type": "code",
   "execution_count": 9,
   "metadata": {
    "collapsed": false
   },
   "outputs": [],
   "source": [
    "with open(\"../res/buses.json\", \"w\") as f:\n",
    "    json.dump(result, f, indent=2)"
   ]
  },
  {
   "cell_type": "code",
   "execution_count": null,
   "metadata": {
    "collapsed": true
   },
   "outputs": [],
   "source": []
  }
 ],
 "metadata": {
  "kernelspec": {
   "display_name": "Python 3",
   "language": "python",
   "name": "python3"
  },
  "language_info": {
   "codemirror_mode": {
    "name": "ipython",
    "version": 3
   },
   "file_extension": ".py",
   "mimetype": "text/x-python",
   "name": "python",
   "nbconvert_exporter": "python",
   "pygments_lexer": "ipython3",
   "version": "3.6.1"
  }
 },
 "nbformat": 4,
 "nbformat_minor": 0
}
