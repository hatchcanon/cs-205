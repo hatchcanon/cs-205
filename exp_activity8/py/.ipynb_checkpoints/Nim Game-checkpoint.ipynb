{
 "cells": [
  {
   "cell_type": "markdown",
   "metadata": {},
   "source": [
    "### Import the networx library for working with graphs\n",
    "In CS 205, we have been using `networkx` as our library to help us work with graphs.  The code below imports this library to be used within this notebook."
   ]
  },
  {
   "cell_type": "code",
   "execution_count": 3,
   "metadata": {
    "collapsed": false
   },
   "outputs": [],
   "source": [
    "import networkx as nx"
   ]
  },
  {
   "cell_type": "markdown",
   "metadata": {},
   "source": [
    "### Part 2: Create the Graph State Space\n",
    "\n",
    "Using a directed networkx graph `G`, create the **nodes** and **edges** that represent the complete gate state (and transitions between states) of the Nim game.\n",
    "\n",
    "Details are provided in Part 2 of the assignment: https://courses.engr.illinois.edu/cs199205/activity/8.php\n"
   ]
  },
  {
   "cell_type": "code",
   "execution_count": 4,
   "metadata": {
    "collapsed": true
   },
   "outputs": [],
   "source": [
    "G = nx.DiGraph()"
   ]
  },
  {
   "cell_type": "markdown",
   "metadata": {},
   "source": [
    "#### Part 2.1: Create nodes in G"
   ]
  },
  {
   "cell_type": "code",
   "execution_count": 5,
   "metadata": {
    "collapsed": false
   },
   "outputs": [
    {
     "data": {
      "text/plain": [
       "['p1-8',\n",
       " 'p1-9',\n",
       " 'p1-2',\n",
       " 'p1-3',\n",
       " 'p2-10',\n",
       " 'p2-5',\n",
       " 'p2-4',\n",
       " 'p2-7',\n",
       " 'p2-6',\n",
       " 'p2-1',\n",
       " 'p2-0',\n",
       " 'p2-3',\n",
       " 'p2-2',\n",
       " 'p1-6',\n",
       " 'p1-7',\n",
       " 'p1-4',\n",
       " 'p1-5',\n",
       " 'p2-9',\n",
       " 'p2-8',\n",
       " 'p1-0',\n",
       " 'p1-1',\n",
       " 'p1-10']"
      ]
     },
     "execution_count": 5,
     "metadata": {},
     "output_type": "execute_result"
    }
   ],
   "source": [
    "for p in [\"p1\",\"p2\"]:\n",
    "    for n in range(11):\n",
    "        G.add_node(p+\"-\"+str(n))\n",
    "G.nodes()"
   ]
  },
  {
   "cell_type": "markdown",
   "metadata": {},
   "source": [
    "#### Part 2.2: Create edges in G"
   ]
  },
  {
   "cell_type": "code",
   "execution_count": 6,
   "metadata": {
    "collapsed": false
   },
   "outputs": [
    {
     "data": {
      "text/plain": [
       "[('p1-8', 'p2-7'),\n",
       " ('p1-8', 'p2-6'),\n",
       " ('p1-9', 'p2-7'),\n",
       " ('p1-9', 'p2-8'),\n",
       " ('p1-2', 'p2-1'),\n",
       " ('p1-2', 'p2-0'),\n",
       " ('p1-3', 'p2-1'),\n",
       " ('p1-3', 'p2-2'),\n",
       " ('p2-10', 'p1-8'),\n",
       " ('p2-10', 'p1-9'),\n",
       " ('p2-5', 'p1-4'),\n",
       " ('p2-5', 'p1-3'),\n",
       " ('p2-4', 'p1-2'),\n",
       " ('p2-4', 'p1-3'),\n",
       " ('p2-7', 'p1-6'),\n",
       " ('p2-7', 'p1-5'),\n",
       " ('p2-6', 'p1-4'),\n",
       " ('p2-6', 'p1-5'),\n",
       " ('p2-1', 'p1-0'),\n",
       " ('p2-3', 'p1-2'),\n",
       " ('p2-3', 'p1-1'),\n",
       " ('p2-2', 'p1-0'),\n",
       " ('p2-2', 'p1-1'),\n",
       " ('p1-6', 'p2-5'),\n",
       " ('p1-6', 'p2-4'),\n",
       " ('p1-7', 'p2-5'),\n",
       " ('p1-7', 'p2-6'),\n",
       " ('p1-4', 'p2-3'),\n",
       " ('p1-4', 'p2-2'),\n",
       " ('p1-5', 'p2-4'),\n",
       " ('p1-5', 'p2-3'),\n",
       " ('p2-9', 'p1-7'),\n",
       " ('p2-9', 'p1-8'),\n",
       " ('p2-8', 'p1-6'),\n",
       " ('p2-8', 'p1-7'),\n",
       " ('p1-1', 'p2-0'),\n",
       " ('p1-10', 'p2-9'),\n",
       " ('p1-10', 'p2-8')]"
      ]
     },
     "execution_count": 6,
     "metadata": {},
     "output_type": "execute_result"
    }
   ],
   "source": [
    "for p in [\"p1\",\"p2\"]:\n",
    "    for n in range(11):\n",
    "        if p == \"p1\":\n",
    "            other = \"p2\"\n",
    "        else:\n",
    "            other = \"p1\"\n",
    "        if n-1 >= 0:\n",
    "            G.add_edge(p+\"-\"+str(n),other+\"-\"+str(n-1))\n",
    "        if n-2 >= 0:\n",
    "            G.add_edge(p+\"-\"+str(n),other+\"-\"+str(n-2))\n",
    "G.edges()"
   ]
  },
  {
   "cell_type": "markdown",
   "metadata": {},
   "source": [
    "At this point, `G` must contain a complete state space with all valid transitions between the nodes."
   ]
  },
  {
   "cell_type": "markdown",
   "metadata": {},
   "source": [
    "#### Test cases for Part 2\n",
    "\n",
    "The code below checks the graph `G` for some expected values.  This is not a complete set of test cases, but should serve as a helpful bit to see if you've got Part 2 complete.\n",
    "\n",
    "When the below code runs, printouts are given if an expected value fails to exist.  If the code runs without printouts, you've passed these basic test cases! :)"
   ]
  },
  {
   "cell_type": "code",
   "execution_count": 31,
   "metadata": {
    "collapsed": false
   },
   "outputs": [],
   "source": [
    "if 'p1-8' not in G.nodes():\n",
    "    print(\"YIKES: \\\"p1-8\\\" is not a node :(\")\n",
    "    print(\"The nodes in your graph are:\")\n",
    "    print(G.nodes())\n",
    "    print()\n",
    "    \n",
    "if 'p2-6' not in G[\"p1-8\"]:\n",
    "    print(\"YIKES: \\\"p1-8\\\" does not contain an edge to \\\"p2-6\\\".\")\n",
    "    print(\"The edges from \\\"p1-8\\\" are: \" + str(list(G[\"p1-8\"].keys())))\n",
    "    print()\n",
    "    \n",
    "if len(G[\"p1-0\"]) != 0:\n",
    "    print(\"YIKES: \\\"p1-0\\\" does not contain no out edges.  As a final state, no edges should start at p1-0.\")\n",
    "    print(\"The edges from \\\"p1-0\\\" are: \" + str(list(G[\"p1-0\"].keys())))\n",
    "    print()"
   ]
  },
  {
   "cell_type": "markdown",
   "metadata": {},
   "source": [
    "### Part 3: Simulating Games to Learn Edge Weights\n",
    "\n",
    "The provided code below plays a game of Nim.  This function requires a `generateGamePath` function to be complete (in Part 3.1), which must provide a path of nodes through the game.\n",
    "\n",
    "Given a `path`, the `playNimGame` function does the following:\n",
    "- Finds the winner of the game (by looking for \"p1-0\" or \"p2-0\") in the path\n",
    "- Awards a `score` to the edges picked by the winning player"
   ]
  },
  {
   "cell_type": "code",
   "execution_count": 1,
   "metadata": {
    "collapsed": false
   },
   "outputs": [],
   "source": [
    "def playNimGame():\n",
    "    # Generate a path of nodes through the game\n",
    "    path = generateGamePath()\n",
    "    \n",
    "    \n",
    "    # Find the winner by checking if the path contains \"p1-0\" (where p2 took the last mark, so p1 lost) or \"p2-0\".\n",
    "    if \"p1-0\" in path:\n",
    "        winner = \"p2\"\n",
    "    elif \"p2-0\" in path:\n",
    "        winner = \"p1\"\n",
    "    else:\n",
    "        print(\"YIKES: The path does not contain \\\"p1-0\\\" or \\\"p2-0\\\". Does `generateGamePath` generate a complete game?\")\n",
    "        return\n",
    "        \n",
    "        \n",
    "    # For all the moves of the player who won, add a point to that player's moves.\n",
    "    #\n",
    "    # For example, if p1 was the winner, \"p1-10\" -> \"p2-9\" should be awarded a point since p1's choice to advance to \"p2-9\"\n",
    "    # contributed to the win.\n",
    "    \n",
    "    # Look at each element in the path, except the last node (since we look ahead, don't want out of bounds)\n",
    "    for i in range(len(path) - 1):\n",
    "        curNode = path[i]\n",
    "        nextNode = path[i + 1]\n",
    "            \n",
    "        if curNode[0:2] == winner:\n",
    "            # Create an entry in the edge for \"score\" if it doesn't eixst\n",
    "            if \"score\" not in G[curNode][nextNode]:\n",
    "                G[curNode][nextNode][\"score\"] = 0\n",
    "                \n",
    "            # Add one to the score of the edge between the curNode and the nextNode in our path\n",
    "            G[curNode][nextNode][\"score\"] += 1"
   ]
  },
  {
   "cell_type": "markdown",
   "metadata": {},
   "source": [
    "#### Part 3.1: Generate a path through for a game\n",
    "\n",
    "In the `playNimGame` function, the first line of code requires a path through the Nim game.  Write a function to generate a random path through the game.  You should assume every game begins with `p1-10` and ends with a `p1-0` or `p2-0`.\n",
    "\n",
    "Your `generateGamePath` function must return a list of nodes."
   ]
  },
  {
   "cell_type": "code",
   "execution_count": 81,
   "metadata": {
    "collapsed": true
   },
   "outputs": [],
   "source": [
    "def generateGamePath():\n",
    "    path = []\n",
    "    n = 0\n",
    "    path.append('p1-10')\n",
    "    # ...your code here...\n",
    "    \n",
    "    return path"
   ]
  },
  {
   "cell_type": "markdown",
   "metadata": {},
   "source": [
    "#### Part 3.2: Play the game many times\n",
    "\n",
    "Create a loop that calls `playNimGame` a large number of times (at least 100,000).  Depending on the speed of your comptuer and your algorithm for generating a path, this might take a few seconds."
   ]
  },
  {
   "cell_type": "code",
   "execution_count": 96,
   "metadata": {
    "collapsed": false
   },
   "outputs": [],
   "source": [
    "# This plays the gmae just once (...you'll need to edit it...):\n",
    "for i in range(10000000):\n",
    "playNimGame()"
   ]
  },
  {
   "cell_type": "markdown",
   "metadata": {},
   "source": [
    "### Saving your graph for visualization\n",
    "\n",
    "The following code will gave the contents of the networkx graph `G` in a file that can be visualized in the CS 205 workbook."
   ]
  },
  {
   "cell_type": "code",
   "execution_count": 91,
   "metadata": {
    "collapsed": false
   },
   "outputs": [],
   "source": [
    "import json\n",
    "from networkx.readwrite import json_graph\n",
    "\n",
    "for node in G.nodes():\n",
    "    G.node[node][\"marks\"] = int(node[3:])\n",
    "    G.node[node][\"player\"] = int(node[1:2])\n",
    "\n",
    "with open(\"../res/graph.json\", \"w\") as f:\n",
    "    graphData = json_graph.node_link_data(G)\n",
    "    json.dump(graphData, f, indent=2)"
   ]
  }
 ],
 "metadata": {
  "kernelspec": {
   "display_name": "Python 2",
   "language": "python",
   "name": "python2"
  },
  "language_info": {
   "codemirror_mode": {
    "name": "ipython",
    "version": 2
   },
   "file_extension": ".py",
   "mimetype": "text/x-python",
   "name": "python",
   "nbconvert_exporter": "python",
   "pygments_lexer": "ipython2",
   "version": "2.7.12"
  }
 },
 "nbformat": 4,
 "nbformat_minor": 0
}
